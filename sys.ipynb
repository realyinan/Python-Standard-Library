{
 "cells": [
  {
   "cell_type": "code",
   "execution_count": 3,
   "id": "66721446-cffb-4ac5-9c95-fb607b0805f3",
   "metadata": {},
   "outputs": [],
   "source": [
    "import sys"
   ]
  },
  {
   "cell_type": "code",
   "execution_count": 4,
   "id": "d979dbe1-9d34-4882-b12f-5c89a6592143",
   "metadata": {},
   "outputs": [
    {
     "data": {
      "text/plain": [
       "'3.11.1 (tags/v3.11.1:a7a450f, Dec  6 2022, 19:58:39) [MSC v.1934 64 bit (AMD64)]'"
      ]
     },
     "execution_count": 4,
     "metadata": {},
     "output_type": "execute_result"
    }
   ],
   "source": [
    "sys.version  # 包含当前 Python 解释器版本信息的字符串"
   ]
  },
  {
   "cell_type": "code",
   "execution_count": 5,
   "id": "f9f778cd-6f2b-4bfc-85d8-faece374673b",
   "metadata": {},
   "outputs": [
    {
     "data": {
      "text/plain": [
       "9223372036854775807"
      ]
     },
     "execution_count": 5,
     "metadata": {},
     "output_type": "execute_result"
    }
   ],
   "source": [
    "sys.maxsize  # python 解释器中可以表示的最大整数的大小"
   ]
  },
  {
   "cell_type": "code",
   "execution_count": 6,
   "id": "26d146d8-c86f-4087-95db-f4ff9f25fbe1",
   "metadata": {},
   "outputs": [
    {
     "data": {
      "text/plain": [
       "['C:\\\\Users\\\\19981\\\\AppData\\\\Local\\\\Programs\\\\Python\\\\Python311\\\\python311.zip',\n",
       " 'C:\\\\Users\\\\19981\\\\AppData\\\\Local\\\\Programs\\\\Python\\\\Python311\\\\DLLs',\n",
       " 'C:\\\\Users\\\\19981\\\\AppData\\\\Local\\\\Programs\\\\Python\\\\Python311\\\\Lib',\n",
       " 'C:\\\\Users\\\\19981\\\\AppData\\\\Local\\\\Programs\\\\Python\\\\Python311',\n",
       " 'C:\\\\Users\\\\19981\\\\Documents\\\\Python\\\\Jupyter',\n",
       " '',\n",
       " 'C:\\\\Users\\\\19981\\\\Documents\\\\Python\\\\Jupyter\\\\Lib\\\\site-packages',\n",
       " 'C:\\\\Users\\\\19981\\\\Documents\\\\Python\\\\Jupyter\\\\Lib\\\\site-packages\\\\win32',\n",
       " 'C:\\\\Users\\\\19981\\\\Documents\\\\Python\\\\Jupyter\\\\Lib\\\\site-packages\\\\win32\\\\lib',\n",
       " 'C:\\\\Users\\\\19981\\\\Documents\\\\Python\\\\Jupyter\\\\Lib\\\\site-packages\\\\Pythonwin']"
      ]
     },
     "execution_count": 6,
     "metadata": {},
     "output_type": "execute_result"
    }
   ],
   "source": [
    "sys.path  # Python 解释器在导入模块时搜索模块的路径"
   ]
  },
  {
   "cell_type": "code",
   "execution_count": 7,
   "id": "f2f13a96-d30e-4c63-8eaa-1434894b298f",
   "metadata": {},
   "outputs": [
    {
     "data": {
      "text/plain": [
       "'win32'"
      ]
     },
     "execution_count": 7,
     "metadata": {},
     "output_type": "execute_result"
    }
   ],
   "source": [
    "sys.platform  # 表示当前 Python 解释器所在的平台"
   ]
  },
  {
   "cell_type": "code",
   "execution_count": 8,
   "id": "a521e5b5-b3aa-4f71-8cfd-855ecb11a50f",
   "metadata": {},
   "outputs": [
    {
     "data": {
      "text/plain": [
       "'Copyright (c) 2001-2022 Python Software Foundation.\\nAll Rights Reserved.\\n\\nCopyright (c) 2000 BeOpen.com.\\nAll Rights Reserved.\\n\\nCopyright (c) 1995-2001 Corporation for National Research Initiatives.\\nAll Rights Reserved.\\n\\nCopyright (c) 1991-1995 Stichting Mathematisch Centrum, Amsterdam.\\nAll Rights Reserved.'"
      ]
     },
     "execution_count": 8,
     "metadata": {},
     "output_type": "execute_result"
    }
   ],
   "source": [
    "sys.copyright"
   ]
  },
  {
   "cell_type": "code",
   "execution_count": 9,
   "id": "c294d47f-7b74-4a92-ba95-2267da8748e2",
   "metadata": {},
   "outputs": [
    {
     "data": {
      "text/plain": [
       "['C:\\\\Users\\\\19981\\\\Documents\\\\Python\\\\Jupyter\\\\Lib\\\\site-packages\\\\ipykernel_launcher.py',\n",
       " '-f',\n",
       " 'C:\\\\Users\\\\19981\\\\AppData\\\\Roaming\\\\jupyter\\\\runtime\\\\kernel-7e9ca964-8b5f-4f02-bf7e-73214d02d839.json']"
      ]
     },
     "execution_count": 9,
     "metadata": {},
     "output_type": "execute_result"
    }
   ],
   "source": [
    "sys.argv  # 一个列表，包含了命令行传递给 Python 脚本的参数。这个列表的第一个元素 sys.argv[0] 是脚本本身的名称，后续的元素则是传递给脚本的参数。"
   ]
  },
  {
   "cell_type": "code",
   "execution_count": 10,
   "id": "65280992-bc18-4049-96ed-b37967347e35",
   "metadata": {},
   "outputs": [
    {
     "data": {
      "text/plain": [
       "'utf-8'"
      ]
     },
     "execution_count": 10,
     "metadata": {},
     "output_type": "execute_result"
    }
   ],
   "source": [
    "sys.getdefaultencoding()  # 返回当前默认的字符串编码方式"
   ]
  },
  {
   "cell_type": "code",
   "execution_count": 11,
   "id": "bb0617e4-b857-40a3-9eed-8791e0c2b944",
   "metadata": {},
   "outputs": [
    {
     "data": {
      "text/plain": [
       "'utf-8'"
      ]
     },
     "execution_count": 11,
     "metadata": {},
     "output_type": "execute_result"
    }
   ],
   "source": [
    "sys.getfilesystemencoding()  # 获取文件系统使用的编码方式"
   ]
  },
  {
   "cell_type": "code",
   "execution_count": 12,
   "id": "e6a0ea9c-ef3e-48ca-8634-c25a9c71a6a4",
   "metadata": {},
   "outputs": [
    {
     "data": {
      "text/plain": [
       "3000"
      ]
     },
     "execution_count": 12,
     "metadata": {},
     "output_type": "execute_result"
    }
   ],
   "source": [
    "sys.getrecursionlimit()  # 用于获取Python解释器当前的递归深度限制"
   ]
  },
  {
   "cell_type": "code",
   "execution_count": 13,
   "id": "7252ddd4-4538-4aa9-831f-f8b7d1b6aa58",
   "metadata": {},
   "outputs": [],
   "source": [
    "sys.setrecursionlimit(5000)  # 用于设置Python解释器当前的递归深度限制"
   ]
  },
  {
   "cell_type": "code",
   "execution_count": 14,
   "id": "22e9849b-6bfd-45e4-944e-cc5b62bdcbf1",
   "metadata": {},
   "outputs": [
    {
     "data": {
      "text/plain": [
       "5000"
      ]
     },
     "execution_count": 14,
     "metadata": {},
     "output_type": "execute_result"
    }
   ],
   "source": [
    "sys.getrecursionlimit()"
   ]
  },
  {
   "cell_type": "code",
   "execution_count": null,
   "id": "7e63c0d3-dcc0-4def-9123-1ccb029486ad",
   "metadata": {},
   "outputs": [],
   "source": []
  }
 ],
 "metadata": {
  "kernelspec": {
   "display_name": "Python 3 (ipykernel)",
   "language": "python",
   "name": "python3"
  },
  "language_info": {
   "codemirror_mode": {
    "name": "ipython",
    "version": 3
   },
   "file_extension": ".py",
   "mimetype": "text/x-python",
   "name": "python",
   "nbconvert_exporter": "python",
   "pygments_lexer": "ipython3",
   "version": "3.11.1"
  }
 },
 "nbformat": 4,
 "nbformat_minor": 5
}
