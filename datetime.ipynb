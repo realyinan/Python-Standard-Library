{
 "cells": [
  {
   "cell_type": "code",
   "execution_count": 1,
   "id": "93b80902-f742-49d6-bc5d-c4bcf6fa4dce",
   "metadata": {},
   "outputs": [],
   "source": [
    "import datetime\n",
    "import time"
   ]
  },
  {
   "cell_type": "markdown",
   "id": "640a7c74-3b1f-4153-a8e6-0e73a10ac3eb",
   "metadata": {},
   "source": [
    "## 1 日期"
   ]
  },
  {
   "cell_type": "code",
   "execution_count": 2,
   "id": "b47b1820-2f2b-426a-b6a9-87e4a3ba6c0d",
   "metadata": {},
   "outputs": [
    {
     "data": {
      "text/plain": [
       "datetime.date(2024, 8, 23)"
      ]
     },
     "execution_count": 2,
     "metadata": {},
     "output_type": "execute_result"
    }
   ],
   "source": [
    "datetime.date.today()  # datetime.date 类的一个类方法，用于获取当前的日期, 返回一个包含当前年、月、日的 datetime.date 对象。"
   ]
  },
  {
   "cell_type": "code",
   "execution_count": 3,
   "id": "ce1cecaa-3618-440b-bfb0-6e445bc2d778",
   "metadata": {},
   "outputs": [
    {
     "data": {
      "text/plain": [
       "datetime.date"
      ]
     },
     "execution_count": 3,
     "metadata": {},
     "output_type": "execute_result"
    }
   ],
   "source": [
    "type(datetime.date.today())"
   ]
  },
  {
   "cell_type": "code",
   "execution_count": 4,
   "id": "57289e54-2c34-4972-be24-0b68f41b7816",
   "metadata": {},
   "outputs": [
    {
     "data": {
      "text/plain": [
       "datetime.date(1989, 6, 4)"
      ]
     },
     "execution_count": 4,
     "metadata": {},
     "output_type": "execute_result"
    }
   ],
   "source": [
    "datetime.date(1989, 6, 4)  # 使用 datetime.date 创建一个日期对象"
   ]
  },
  {
   "cell_type": "code",
   "execution_count": 5,
   "id": "233c0529-14ee-40a3-b2f0-c0cf95e15cd6",
   "metadata": {},
   "outputs": [
    {
     "data": {
      "text/plain": [
       "1989"
      ]
     },
     "execution_count": 5,
     "metadata": {},
     "output_type": "execute_result"
    }
   ],
   "source": [
    "datetime.date(1989, 6, 4).year"
   ]
  },
  {
   "cell_type": "code",
   "execution_count": 6,
   "id": "38769835-d119-43f0-a7c7-a1b8fa3dd548",
   "metadata": {},
   "outputs": [
    {
     "data": {
      "text/plain": [
       "6"
      ]
     },
     "execution_count": 6,
     "metadata": {},
     "output_type": "execute_result"
    }
   ],
   "source": [
    "datetime.date(1989, 6, 4).month"
   ]
  },
  {
   "cell_type": "code",
   "execution_count": 18,
   "id": "e31bae8f-1fdc-4700-8249-c23ad4c12aa6",
   "metadata": {},
   "outputs": [
    {
     "data": {
      "text/plain": [
       "4"
      ]
     },
     "execution_count": 18,
     "metadata": {},
     "output_type": "execute_result"
    }
   ],
   "source": [
    "datetime.date(1989, 6, 4).day"
   ]
  },
  {
   "cell_type": "code",
   "execution_count": 7,
   "id": "35782d88-07b2-487e-8d06-93427ebd20fe",
   "metadata": {},
   "outputs": [
    {
     "data": {
      "text/plain": [
       "datetime.date(2024, 8, 23)"
      ]
     },
     "execution_count": 7,
     "metadata": {},
     "output_type": "execute_result"
    }
   ],
   "source": [
    "datetime.date.fromtimestamp(time.time())  # datetime.date 类的一个类方法，它用于从给定的时间戳创建一个日期对象"
   ]
  },
  {
   "cell_type": "markdown",
   "id": "40489d83-6f16-42cb-9c33-ebbb8ebd81b2",
   "metadata": {},
   "source": [
    "### 1.1 类属性"
   ]
  },
  {
   "cell_type": "code",
   "execution_count": 8,
   "id": "58423f7c-c41a-4814-adbe-c0c9ce057413",
   "metadata": {},
   "outputs": [
    {
     "data": {
      "text/plain": [
       "datetime.date(1, 1, 1)"
      ]
     },
     "execution_count": 8,
     "metadata": {},
     "output_type": "execute_result"
    }
   ],
   "source": [
    "datetime.date.min  # datetime.date 类的一个类属性，它表示日期对象可以表示的最早日期。"
   ]
  },
  {
   "cell_type": "code",
   "execution_count": 9,
   "id": "f7b23f27-b436-4769-83e0-30f1c96d46df",
   "metadata": {},
   "outputs": [
    {
     "data": {
      "text/plain": [
       "datetime.date(9999, 12, 31)"
      ]
     },
     "execution_count": 9,
     "metadata": {},
     "output_type": "execute_result"
    }
   ],
   "source": [
    "datetime.date.max  # datetime.date 类的一个类属性，它表示日期对象可以表示的最晚日期。"
   ]
  },
  {
   "cell_type": "code",
   "execution_count": 10,
   "id": "4e82910b-8016-4c3c-99af-998e33b7fd7f",
   "metadata": {},
   "outputs": [
    {
     "data": {
      "text/plain": [
       "datetime.timedelta(days=1)"
      ]
     },
     "execution_count": 10,
     "metadata": {},
     "output_type": "execute_result"
    }
   ],
   "source": [
    "datetime.date.resolution  # datetime.date 类的一个类属性，它表示日期对象能够表示的最小时间单位。在 datetime.date 中，分辨率为一天，即 1 天。"
   ]
  },
  {
   "cell_type": "markdown",
   "id": "ff4316df-2d19-4b29-8e4f-feff3098d464",
   "metadata": {},
   "source": [
    "### 1.2 实例属性"
   ]
  },
  {
   "cell_type": "code",
   "execution_count": 15,
   "id": "b2b6f0c4-0e82-4cc8-830b-437c7af70e58",
   "metadata": {},
   "outputs": [],
   "source": [
    "d = datetime.date.today()"
   ]
  },
  {
   "cell_type": "code",
   "execution_count": 17,
   "id": "49a9cec6-cfc8-4398-9d25-05ea9a42a5c3",
   "metadata": {},
   "outputs": [
    {
     "data": {
      "text/plain": [
       "2024"
      ]
     },
     "execution_count": 17,
     "metadata": {},
     "output_type": "execute_result"
    }
   ],
   "source": [
    "d.year"
   ]
  },
  {
   "cell_type": "code",
   "execution_count": 18,
   "id": "c19a396a-b760-4223-9bfb-0ae8054a5150",
   "metadata": {},
   "outputs": [
    {
     "data": {
      "text/plain": [
       "8"
      ]
     },
     "execution_count": 18,
     "metadata": {},
     "output_type": "execute_result"
    }
   ],
   "source": [
    "d.month"
   ]
  },
  {
   "cell_type": "code",
   "execution_count": 19,
   "id": "44bc6825-a4c4-479b-b1a7-690eaf8915f4",
   "metadata": {},
   "outputs": [
    {
     "data": {
      "text/plain": [
       "23"
      ]
     },
     "execution_count": 19,
     "metadata": {},
     "output_type": "execute_result"
    }
   ],
   "source": [
    "d.day"
   ]
  },
  {
   "cell_type": "markdown",
   "id": "45cd00a0-4c87-4b7b-9e25-2b64f392d0a9",
   "metadata": {},
   "source": [
    "### 1.3 实例方法"
   ]
  },
  {
   "cell_type": "code",
   "execution_count": 21,
   "id": "98314356-6ba3-49af-b572-ff489d0be2bf",
   "metadata": {},
   "outputs": [
    {
     "data": {
      "text/plain": [
       "time.struct_time(tm_year=2024, tm_mon=8, tm_mday=23, tm_hour=0, tm_min=0, tm_sec=0, tm_wday=4, tm_yday=236, tm_isdst=-1)"
      ]
     },
     "execution_count": 21,
     "metadata": {},
     "output_type": "execute_result"
    }
   ],
   "source": [
    "d.timetuple()  # datetime.date 对象的一个方法，它将 date 对象转换为一个表示本地时间的 time.struct_time 对象"
   ]
  },
  {
   "cell_type": "code",
   "execution_count": 24,
   "id": "ae7480de-c46b-4fa8-9f79-b2c967d8d277",
   "metadata": {},
   "outputs": [
    {
     "data": {
      "text/plain": [
       "datetime.date(2022, 8, 23)"
      ]
     },
     "execution_count": 24,
     "metadata": {},
     "output_type": "execute_result"
    }
   ],
   "source": [
    "d.replace(2022)  # datetime.date 对象的一个方法，用于替换日期对象的某些属性（年、月、日），从而生成一个新的 date 对象"
   ]
  },
  {
   "cell_type": "code",
   "execution_count": 25,
   "id": "a82c27ec-5fad-4693-956d-103cadd1a6d7",
   "metadata": {},
   "outputs": [
    {
     "data": {
      "text/plain": [
       "4"
      ]
     },
     "execution_count": 25,
     "metadata": {},
     "output_type": "execute_result"
    }
   ],
   "source": [
    "d.weekday()  # 返回日期对应的星期几"
   ]
  },
  {
   "cell_type": "code",
   "execution_count": 26,
   "id": "26197757-b7bc-4d6c-8e1f-60cc11fe4ae2",
   "metadata": {},
   "outputs": [
    {
     "data": {
      "text/plain": [
       "5"
      ]
     },
     "execution_count": 26,
     "metadata": {},
     "output_type": "execute_result"
    }
   ],
   "source": [
    "d.isoweekday()  # 获取日期对应的星期几的另一个方法"
   ]
  },
  {
   "cell_type": "code",
   "execution_count": 27,
   "id": "dfb7478b-2ffc-400e-95de-dfefc1627247",
   "metadata": {},
   "outputs": [
    {
     "data": {
      "text/plain": [
       "'2024-08-23'"
      ]
     },
     "execution_count": 27,
     "metadata": {},
     "output_type": "execute_result"
    }
   ],
   "source": [
    "d.isoformat()  # 用于将日期对象转换为一个 ISO 8601 格式的字符串。ISO 8601 是一种国际标准的日期和时间表示方法，格式为 YYYY-MM-DD，即年-月-日。"
   ]
  },
  {
   "cell_type": "code",
   "execution_count": 31,
   "id": "87797560-3185-4bd9-ac2b-91f37c3aab0a",
   "metadata": {},
   "outputs": [
    {
     "data": {
      "text/plain": [
       "'2024年08月23日'"
      ]
     },
     "execution_count": 31,
     "metadata": {},
     "output_type": "execute_result"
    }
   ],
   "source": [
    "d.strftime('%Y年%m月%d日')\n",
    "# %Y: 4位数的年份（如 2024）\n",
    "# %y: 2位数的年份（如 24）\n",
    "# %m: 月份（01-12）\n",
    "# %d: 日期（01-31）\n",
    "# %H: 24小时制的小时（00-23）\n",
    "# %I: 12小时制的小时（01-12）\n",
    "# %M: 分钟（00-59）\n",
    "# %S: 秒（00-59）\n",
    "# %p: AM 或 PM\n",
    "# %A: 星期几的全名（如 Monday）\n",
    "# %a: 星期几的缩写（如 Mon）\n",
    "# %B: 月份的全名（如 January）\n",
    "# %b: 月份的缩写（如 Jan）\n",
    "# %c: 本地日期和时间表示（如 Mon Aug 23 14:30:00 2023）\n",
    "# %x: 本地日期表示（如 08/23/23）\n",
    "# %X: 本地时间表示（如 14:30:00）"
   ]
  },
  {
   "cell_type": "code",
   "execution_count": null,
   "id": "82290888-d7c9-4b5c-8bcd-9f9a69855e47",
   "metadata": {},
   "outputs": [],
   "source": []
  }
 ],
 "metadata": {
  "kernelspec": {
   "display_name": "Python 3 (ipykernel)",
   "language": "python",
   "name": "python3"
  },
  "language_info": {
   "codemirror_mode": {
    "name": "ipython",
    "version": 3
   },
   "file_extension": ".py",
   "mimetype": "text/x-python",
   "name": "python",
   "nbconvert_exporter": "python",
   "pygments_lexer": "ipython3",
   "version": "3.11.1"
  }
 },
 "nbformat": 4,
 "nbformat_minor": 5
}
