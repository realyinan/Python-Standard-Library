{
 "cells": [
  {
   "cell_type": "code",
   "execution_count": 2,
   "id": "73edd719-f1a4-4680-8435-496ec30580ae",
   "metadata": {},
   "outputs": [],
   "source": [
    "import time"
   ]
  },
  {
   "cell_type": "markdown",
   "id": "b83a0e11-dea4-42d7-b874-ea748f030cab",
   "metadata": {},
   "source": [
    "## 1. 时间戳"
   ]
  },
  {
   "cell_type": "markdown",
   "id": "527cb8c6-eaf5-49f1-bd51-782018d762e4",
   "metadata": {},
   "source": [
    "**时间戳（Timestamp）是一种用来表示特定时间点的数值，通常以自 Unix 纪元（1970年1月1日00:00:00 UTC）以来的秒数或毫秒数表示。在编程和计算机系统中，时间戳常用于记录事件发生的时间。**"
   ]
  },
  {
   "cell_type": "code",
   "execution_count": 3,
   "id": "2a7a9660-4fd1-46a1-ba5e-bd8fac9bd90f",
   "metadata": {},
   "outputs": [
    {
     "data": {
      "text/plain": [
       "1723213838.7302995"
      ]
     },
     "execution_count": 3,
     "metadata": {},
     "output_type": "execute_result"
    }
   ],
   "source": [
    "time.time()"
   ]
  },
  {
   "cell_type": "code",
   "execution_count": 4,
   "id": "fc1cd061-2526-4f14-a214-11a4dc720057",
   "metadata": {},
   "outputs": [
    {
     "data": {
      "text/plain": [
       "float"
      ]
     },
     "execution_count": 4,
     "metadata": {},
     "output_type": "execute_result"
    }
   ],
   "source": [
    "type(time.time())"
   ]
  },
  {
   "cell_type": "code",
   "execution_count": 5,
   "id": "5e8407f6-381e-414c-b785-d86eeea09036",
   "metadata": {},
   "outputs": [
    {
     "data": {
      "text/plain": [
       "1723210243.1430886"
      ]
     },
     "execution_count": 5,
     "metadata": {},
     "output_type": "execute_result"
    }
   ],
   "source": [
    "time.time() - 3600"
   ]
  },
  {
   "cell_type": "markdown",
   "id": "2d8ac17c-1465-4f40-a85e-b2f656a915ec",
   "metadata": {},
   "source": [
    "## 2.结构化时间对象"
   ]
  },
  {
   "cell_type": "code",
   "execution_count": 8,
   "id": "5bafd9a6-332d-49ca-a3c0-ae9f0f0b839f",
   "metadata": {},
   "outputs": [
    {
     "data": {
      "text/plain": [
       "time.struct_time(tm_year=2024, tm_mon=8, tm_mday=9, tm_hour=22, tm_min=33, tm_sec=19, tm_wday=4, tm_yday=222, tm_isdst=0)"
      ]
     },
     "execution_count": 8,
     "metadata": {},
     "output_type": "execute_result"
    }
   ],
   "source": [
    "time.localtime()  # 本质上是一个元组, 一共九个元素"
   ]
  },
  {
   "cell_type": "code",
   "execution_count": 9,
   "id": "646ce3c5-27ce-4680-812a-f5532d971eb2",
   "metadata": {},
   "outputs": [
    {
     "data": {
      "text/plain": [
       "time.struct_time"
      ]
     },
     "execution_count": 9,
     "metadata": {},
     "output_type": "execute_result"
    }
   ],
   "source": [
    "type(time.localtime())"
   ]
  },
  {
   "cell_type": "code",
   "execution_count": 12,
   "id": "3696cb1b-6341-45f8-8928-685bcce1822c",
   "metadata": {},
   "outputs": [
    {
     "data": {
      "text/plain": [
       "'今天是2024-8-9'"
      ]
     },
     "execution_count": 12,
     "metadata": {},
     "output_type": "execute_result"
    }
   ],
   "source": [
    "f'今天是{time.localtime()[0]}-{time.localtime()[1]}-{time.localtime()[2]}'"
   ]
  },
  {
   "cell_type": "code",
   "execution_count": 13,
   "id": "7f52ac4e-bbc5-4023-9fc2-a6e65cacffaf",
   "metadata": {},
   "outputs": [
    {
     "data": {
      "text/plain": [
       "'今天是星期5'"
      ]
     },
     "execution_count": 13,
     "metadata": {},
     "output_type": "execute_result"
    }
   ],
   "source": [
    "f'今天是星期{time.localtime()[6]+1}'"
   ]
  },
  {
   "cell_type": "code",
   "execution_count": 15,
   "id": "e5c2d8af-ac5a-4be8-afd2-63bffa49fa0b",
   "metadata": {},
   "outputs": [
    {
     "ename": "AttributeError",
     "evalue": "readonly attribute",
     "output_type": "error",
     "traceback": [
      "\u001b[1;31m---------------------------------------------------------------------------\u001b[0m",
      "\u001b[1;31mAttributeError\u001b[0m                            Traceback (most recent call last)",
      "Cell \u001b[1;32mIn[15], line 1\u001b[0m\n\u001b[1;32m----> 1\u001b[0m \u001b[43mtime\u001b[49m\u001b[38;5;241;43m.\u001b[39;49m\u001b[43mlocaltime\u001b[49m\u001b[43m(\u001b[49m\u001b[43m)\u001b[49m\u001b[38;5;241;43m.\u001b[39;49m\u001b[43mtm_yday\u001b[49m \u001b[38;5;241m=\u001b[39m \u001b[38;5;241m223\u001b[39m  \u001b[38;5;66;03m# 对象的属性是只读的\u001b[39;00m\n",
      "\u001b[1;31mAttributeError\u001b[0m: readonly attribute"
     ]
    }
   ],
   "source": [
    "time.localtime().tm_yday = 223  # 对象的属性是只读的"
   ]
  },
  {
   "cell_type": "markdown",
   "id": "c744e5d0-2d3f-4676-85fd-d66569f6d758",
   "metadata": {},
   "source": [
    "## 3.格式化的时间字符串"
   ]
  },
  {
   "cell_type": "code",
   "execution_count": 16,
   "id": "d27c3fe1-9fd0-47d8-989f-716ac0a9b6e5",
   "metadata": {},
   "outputs": [
    {
     "data": {
      "text/plain": [
       "'Fri Aug  9 22:42:18 2024'"
      ]
     },
     "execution_count": 16,
     "metadata": {},
     "output_type": "execute_result"
    }
   ],
   "source": [
    "time.ctime()"
   ]
  },
  {
   "cell_type": "code",
   "execution_count": 17,
   "id": "9c9f1900-3f1c-4b99-b39f-e219bc0e74b4",
   "metadata": {},
   "outputs": [
    {
     "data": {
      "text/plain": [
       "str"
      ]
     },
     "execution_count": 17,
     "metadata": {},
     "output_type": "execute_result"
    }
   ],
   "source": [
    "type(time.ctime())"
   ]
  },
  {
   "cell_type": "code",
   "execution_count": null,
   "id": "eb125219-6696-4d59-afcd-3bbb0b3b5058",
   "metadata": {},
   "outputs": [],
   "source": []
  }
 ],
 "metadata": {
  "kernelspec": {
   "display_name": "Python 3 (ipykernel)",
   "language": "python",
   "name": "python3"
  },
  "language_info": {
   "codemirror_mode": {
    "name": "ipython",
    "version": 3
   },
   "file_extension": ".py",
   "mimetype": "text/x-python",
   "name": "python",
   "nbconvert_exporter": "python",
   "pygments_lexer": "ipython3",
   "version": "3.11.1"
  }
 },
 "nbformat": 4,
 "nbformat_minor": 5
}
