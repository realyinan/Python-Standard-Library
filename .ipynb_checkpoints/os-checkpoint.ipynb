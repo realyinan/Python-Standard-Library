{
 "cells": [
  {
   "cell_type": "code",
   "execution_count": 1,
   "id": "e8030896-8389-42aa-9aed-7cb3790f770b",
   "metadata": {},
   "outputs": [],
   "source": [
    "import os"
   ]
  },
  {
   "cell_type": "markdown",
   "id": "47c25297-3350-41df-90b6-b15e70f0ea42",
   "metadata": {},
   "source": [
    "## 1.系统相关内容"
   ]
  },
  {
   "cell_type": "code",
   "execution_count": 2,
   "id": "84ea61f0-d359-476f-a121-224a5032418e",
   "metadata": {},
   "outputs": [
    {
     "data": {
      "text/plain": [
       "'nt'"
      ]
     },
     "execution_count": 2,
     "metadata": {},
     "output_type": "execute_result"
    }
   ],
   "source": [
    "os.name  # 打印出操作系统相关模块的名称"
   ]
  },
  {
   "cell_type": "code",
   "execution_count": 13,
   "id": "ad728c7c-492e-4bc7-8eef-1a6402f02152",
   "metadata": {},
   "outputs": [
    {
     "data": {
      "text/plain": [
       "environ{'ALLUSERSPROFILE': 'C:\\\\ProgramData',\n",
       "        'APPDATA': 'C:\\\\Users\\\\19981\\\\AppData\\\\Roaming',\n",
       "        'COMMONPROGRAMFILES': 'C:\\\\Program Files\\\\Common Files',\n",
       "        'COMMONPROGRAMFILES(X86)': 'C:\\\\Program Files (x86)\\\\Common Files',\n",
       "        'COMMONPROGRAMW6432': 'C:\\\\Program Files\\\\Common Files',\n",
       "        'COMPUTERNAME': 'PAUL',\n",
       "        'COMSPEC': 'C:\\\\WINDOWS\\\\system32\\\\cmd.exe',\n",
       "        'DRIVERDATA': 'C:\\\\Windows\\\\System32\\\\Drivers\\\\DriverData',\n",
       "        'HADOOP_HOME': 'C:\\\\hadoop-3.3.4',\n",
       "        'HOMEDRIVE': 'C:',\n",
       "        'HOMEPATH': '\\\\Users\\\\19981',\n",
       "        'LOCALAPPDATA': 'C:\\\\Users\\\\19981\\\\AppData\\\\Local',\n",
       "        'LOGONSERVER': '\\\\\\\\PAUL',\n",
       "        'NUMBER_OF_PROCESSORS': '20',\n",
       "        'ONEDRIVE': 'C:\\\\Users\\\\19981\\\\OneDrive',\n",
       "        'ONEDRIVECONSUMER': 'C:\\\\Users\\\\19981\\\\OneDrive',\n",
       "        'ONLINESERVICES': 'Online Services',\n",
       "        'OS': 'Windows_NT',\n",
       "        'PATH': 'C:\\\\Users\\\\19981\\\\Documents\\\\Python\\\\Jupyter\\\\Scripts;C:\\\\windows\\\\system32;C:\\\\windows;C:\\\\windows\\\\System32\\\\Wbem;C:\\\\windows\\\\System32\\\\WindowsPowerShell\\\\v1.0\\\\;C:\\\\windows\\\\System32\\\\OpenSSH\\\\;C:\\\\WINDOWS\\\\system32;C:\\\\WINDOWS;C:\\\\WINDOWS\\\\System32\\\\Wbem;C:\\\\WINDOWS\\\\System32\\\\WindowsPowerShell\\\\v1.0\\\\;C:\\\\WINDOWS\\\\System32\\\\OpenSSH\\\\;C:\\\\Program Files\\\\dotnet\\\\;C:\\\\Program Files\\\\MySQL\\\\MySQL Server 8.0\\\\bin\\\\;C:\\\\Program Files (x86)\\\\NetSarang\\\\Xshell 7\\\\;C:\\\\Program Files\\\\NVIDIA Corporation\\\\NVIDIA NvDLISR;C:\\\\Program Files (x86)\\\\NetSarang\\\\Xftp 7\\\\;C:\\\\Program Files (x86)\\\\NVIDIA Corporation\\\\PhysX\\\\Common;C:\\\\Program Files\\\\Git\\\\cmd;C:\\\\Users\\\\19981\\\\AppData\\\\Local\\\\Programs\\\\Python\\\\Python311\\\\Scripts\\\\;C:\\\\Users\\\\19981\\\\AppData\\\\Local\\\\Programs\\\\Python\\\\Python311\\\\;C:\\\\Users\\\\19981\\\\AppData\\\\Local\\\\Microsoft\\\\WindowsApps;C:\\\\Users\\\\19981\\\\AppData\\\\Local\\\\GitHubDesktop\\\\bin;C:\\\\Users\\\\19981\\\\AppData\\\\Local\\\\Programs\\\\Microsoft VS Code\\\\bin;',\n",
       "        'PATHEXT': '.COM;.EXE;.BAT;.CMD;.VBS;.VBE;.JS;.JSE;.WSF;.WSH;.MSC',\n",
       "        'PLATFORMCODE': 'M7',\n",
       "        'PROCESSOR_ARCHITECTURE': 'AMD64',\n",
       "        'PROCESSOR_IDENTIFIER': 'Intel64 Family 6 Model 154 Stepping 3, GenuineIntel',\n",
       "        'PROCESSOR_LEVEL': '6',\n",
       "        'PROCESSOR_REVISION': '9a03',\n",
       "        'PROGRAMDATA': 'C:\\\\ProgramData',\n",
       "        'PROGRAMFILES': 'C:\\\\Program Files',\n",
       "        'PROGRAMFILES(X86)': 'C:\\\\Program Files (x86)',\n",
       "        'PROGRAMW6432': 'C:\\\\Program Files',\n",
       "        'PROMPT': '(Jupyter) $P$G',\n",
       "        'PSMODULEPATH': 'C:\\\\Program Files\\\\WindowsPowerShell\\\\Modules;C:\\\\WINDOWS\\\\system32\\\\WindowsPowerShell\\\\v1.0\\\\Modules',\n",
       "        'PUBLIC': 'C:\\\\Users\\\\Public',\n",
       "        'REGIONCODE': 'APJ',\n",
       "        'SESSIONNAME': 'Console',\n",
       "        'SYSTEMDRIVE': 'C:',\n",
       "        'SYSTEMROOT': 'C:\\\\WINDOWS',\n",
       "        'TEMP': 'C:\\\\Users\\\\19981\\\\AppData\\\\Local\\\\Temp',\n",
       "        'TMP': 'C:\\\\Users\\\\19981\\\\AppData\\\\Local\\\\Temp',\n",
       "        'USERDOMAIN': 'PAUL',\n",
       "        'USERDOMAIN_ROAMINGPROFILE': 'PAUL',\n",
       "        'USERNAME': '19981',\n",
       "        'USERPROFILE': 'C:\\\\Users\\\\19981',\n",
       "        'VIRTUAL_ENV': 'C:\\\\Users\\\\19981\\\\Documents\\\\Python\\\\Jupyter',\n",
       "        'VIRTUAL_ENV_PROMPT': '(Jupyter) ',\n",
       "        'WINDIR': 'C:\\\\WINDOWS',\n",
       "        'WSLENV': 'WT_SESSION:WT_PROFILE_ID:',\n",
       "        'WT_PROFILE_ID': '{0caa0dad-35be-5f56-a8ff-afceeeaa6101}',\n",
       "        'WT_SESSION': 'a5142215-37a4-4a73-9d98-586bba8849be',\n",
       "        'ZES_ENABLE_SYSMAN': '1',\n",
       "        '_OLD_VIRTUAL_PATH': 'C:\\\\windows\\\\system32;C:\\\\windows;C:\\\\windows\\\\System32\\\\Wbem;C:\\\\windows\\\\System32\\\\WindowsPowerShell\\\\v1.0\\\\;C:\\\\windows\\\\System32\\\\OpenSSH\\\\;C:\\\\WINDOWS\\\\system32;C:\\\\WINDOWS;C:\\\\WINDOWS\\\\System32\\\\Wbem;C:\\\\WINDOWS\\\\System32\\\\WindowsPowerShell\\\\v1.0\\\\;C:\\\\WINDOWS\\\\System32\\\\OpenSSH\\\\;C:\\\\Program Files\\\\dotnet\\\\;C:\\\\Program Files\\\\MySQL\\\\MySQL Server 8.0\\\\bin\\\\;C:\\\\Program Files (x86)\\\\NetSarang\\\\Xshell 7\\\\;C:\\\\Program Files\\\\NVIDIA Corporation\\\\NVIDIA NvDLISR;C:\\\\Program Files (x86)\\\\NetSarang\\\\Xftp 7\\\\;C:\\\\Program Files (x86)\\\\NVIDIA Corporation\\\\PhysX\\\\Common;C:\\\\Program Files\\\\Git\\\\cmd;C:\\\\Users\\\\19981\\\\AppData\\\\Local\\\\Programs\\\\Python\\\\Python311\\\\Scripts\\\\;C:\\\\Users\\\\19981\\\\AppData\\\\Local\\\\Programs\\\\Python\\\\Python311\\\\;C:\\\\Users\\\\19981\\\\AppData\\\\Local\\\\Microsoft\\\\WindowsApps;C:\\\\Users\\\\19981\\\\AppData\\\\Local\\\\GitHubDesktop\\\\bin;C:\\\\Users\\\\19981\\\\AppData\\\\Local\\\\Programs\\\\Microsoft VS Code\\\\bin;',\n",
       "        '_OLD_VIRTUAL_PROMPT': '$P$G',\n",
       "        'JPY_SESSION_NAME': 'C:\\\\Users\\\\19981\\\\Desktop\\\\Python\\\\Python高阶\\\\Python标准库\\\\Untitled.ipynb',\n",
       "        'JPY_INTERRUPT_EVENT': '2768',\n",
       "        'IPY_INTERRUPT_EVENT': '2768',\n",
       "        'JPY_PARENT_PID': '2648',\n",
       "        'PYDEVD_USE_FRAME_EVAL': 'NO',\n",
       "        'TERM': 'xterm-color',\n",
       "        'CLICOLOR': '1',\n",
       "        'FORCE_COLOR': '1',\n",
       "        'CLICOLOR_FORCE': '1',\n",
       "        'PAGER': 'cat',\n",
       "        'GIT_PAGER': 'cat',\n",
       "        'MPLBACKEND': 'module://matplotlib_inline.backend_inline'}"
      ]
     },
     "execution_count": 13,
     "metadata": {},
     "output_type": "execute_result"
    }
   ],
   "source": [
    "os.environ  # 打印出系统环境变量"
   ]
  },
  {
   "cell_type": "code",
   "execution_count": 3,
   "id": "af6bbfbf-c65c-4c5b-8a70-b1915d0876e1",
   "metadata": {},
   "outputs": [
    {
     "data": {
      "text/plain": [
       "'\\\\'"
      ]
     },
     "execution_count": 3,
     "metadata": {},
     "output_type": "execute_result"
    }
   ],
   "source": [
    "os.sep  # 打印出路径分隔符"
   ]
  },
  {
   "cell_type": "code",
   "execution_count": 4,
   "id": "de6f392a-5017-4bb1-92f8-2720a9004681",
   "metadata": {},
   "outputs": [
    {
     "data": {
      "text/plain": [
       "';'"
      ]
     },
     "execution_count": 4,
     "metadata": {},
     "output_type": "execute_result"
    }
   ],
   "source": [
    "os.pathsep  # 打印出环境变量中路径的分隔符"
   ]
  },
  {
   "cell_type": "code",
   "execution_count": 5,
   "id": "be6926de-bcb5-4a09-abc5-927e091edd44",
   "metadata": {},
   "outputs": [
    {
     "data": {
      "text/plain": [
       "'\\r\\n'"
      ]
     },
     "execution_count": 5,
     "metadata": {},
     "output_type": "execute_result"
    }
   ],
   "source": [
    "os.linesep  # 打印出行终止符"
   ]
  },
  {
   "cell_type": "markdown",
   "id": "aa292523-1df1-4e0b-85d9-cbbaf257cef7",
   "metadata": {},
   "source": [
    "## 2.文件和目录操作"
   ]
  },
  {
   "cell_type": "code",
   "execution_count": 6,
   "id": "0134438e-7dd0-4f47-a100-04639c2a0bef",
   "metadata": {},
   "outputs": [],
   "source": [
    "os.mkdir('stddemo')  # 创建文件夹"
   ]
  },
  {
   "cell_type": "code",
   "execution_count": 7,
   "id": "ba4bae4f-e56c-4738-88f3-0f3eac02057b",
   "metadata": {},
   "outputs": [],
   "source": [
    "os.rmdir('stddemo')  # 删除文件夹"
   ]
  },
  {
   "cell_type": "code",
   "execution_count": 8,
   "id": "3390a982-b250-4a2a-b2b5-f26e33a18a48",
   "metadata": {},
   "outputs": [],
   "source": [
    "# # exist_ok: 这是一个布尔值，默认为 False。如果设置为 True，当目录已经存在时，程序不会报错。如果设置为 False，当目录已经存在时，会引发 FileExistsError。\n",
    "os.makedirs('path/to/new/directory', exist_ok=True)  # 递归创建目录"
   ]
  },
  {
   "cell_type": "code",
   "execution_count": 9,
   "id": "0d15bc3b-1ec6-465e-b425-cffa28bf60a9",
   "metadata": {},
   "outputs": [],
   "source": [
    "# os.removedirs 是用于递归删除目录的函数。如果一个目录被删除后它的父目录变为空，os.removedirs 会继续删除父目录。这个函数会一直向上递归，直到遇到一个非空目录或者到达顶级目录。\n",
    "os.removedirs('path/to/new/directory')"
   ]
  },
  {
   "cell_type": "code",
   "execution_count": 10,
   "id": "e5b73154-88d3-463c-9fa8-88aec0eb29cb",
   "metadata": {},
   "outputs": [
    {
     "data": {
      "text/plain": [
       "'C:\\\\Users\\\\19981\\\\Desktop\\\\Python\\\\Python高阶\\\\Python Standard Library'"
      ]
     },
     "execution_count": 10,
     "metadata": {},
     "output_type": "execute_result"
    }
   ],
   "source": [
    "os.getcwd()  # 获取当前路径"
   ]
  },
  {
   "cell_type": "code",
   "execution_count": 11,
   "id": "64a833d8-56f6-4c15-8144-a199ca303376",
   "metadata": {},
   "outputs": [
    {
     "ename": "FileNotFoundError",
     "evalue": "[WinError 2] 系统找不到指定的文件。: './os.py'",
     "output_type": "error",
     "traceback": [
      "\u001b[1;31m---------------------------------------------------------------------------\u001b[0m",
      "\u001b[1;31mFileNotFoundError\u001b[0m                         Traceback (most recent call last)",
      "Cell \u001b[1;32mIn[11], line 2\u001b[0m\n\u001b[0;32m      1\u001b[0m \u001b[38;5;66;03m# 是用于获取文件或目录的状态信息的函数。它返回一个包含文件详细信息的对象，其中包括文件大小、权限、创建时间、修改时间等。\u001b[39;00m\n\u001b[1;32m----> 2\u001b[0m \u001b[43mos\u001b[49m\u001b[38;5;241;43m.\u001b[39;49m\u001b[43mstat\u001b[49m\u001b[43m(\u001b[49m\u001b[38;5;124;43m'\u001b[39;49m\u001b[38;5;124;43m./os.py\u001b[39;49m\u001b[38;5;124;43m'\u001b[39;49m\u001b[43m)\u001b[49m\n",
      "\u001b[1;31mFileNotFoundError\u001b[0m: [WinError 2] 系统找不到指定的文件。: './os.py'"
     ]
    }
   ],
   "source": [
    "# 是用于获取文件或目录的状态信息的函数。它返回一个包含文件详细信息的对象，其中包括文件大小、权限、创建时间、修改时间等。\n",
    "os.stat('./os.py')"
   ]
  },
  {
   "cell_type": "code",
   "execution_count": 12,
   "id": "b951e409-e32b-4885-b86c-3b55dbc0defd",
   "metadata": {},
   "outputs": [
    {
     "ename": "FileNotFoundError",
     "evalue": "[WinError 2] 系统找不到指定的文件。: './new.txt' -> './old.txt'",
     "output_type": "error",
     "traceback": [
      "\u001b[1;31m---------------------------------------------------------------------------\u001b[0m",
      "\u001b[1;31mFileNotFoundError\u001b[0m                         Traceback (most recent call last)",
      "Cell \u001b[1;32mIn[12], line 1\u001b[0m\n\u001b[1;32m----> 1\u001b[0m \u001b[43mos\u001b[49m\u001b[38;5;241;43m.\u001b[39;49m\u001b[43mrename\u001b[49m\u001b[43m(\u001b[49m\u001b[38;5;124;43m'\u001b[39;49m\u001b[38;5;124;43m./new.txt\u001b[39;49m\u001b[38;5;124;43m'\u001b[39;49m\u001b[43m,\u001b[49m\u001b[43m \u001b[49m\u001b[38;5;124;43m'\u001b[39;49m\u001b[38;5;124;43m./old.txt\u001b[39;49m\u001b[38;5;124;43m'\u001b[39;49m\u001b[43m)\u001b[49m  \u001b[38;5;66;03m# 是用于重命名文件或目录的函数\u001b[39;00m\n",
      "\u001b[1;31mFileNotFoundError\u001b[0m: [WinError 2] 系统找不到指定的文件。: './new.txt' -> './old.txt'"
     ]
    }
   ],
   "source": [
    "os.rename('./new.txt', './old.txt')  # 是用于重命名文件或目录的函数"
   ]
  },
  {
   "cell_type": "code",
   "execution_count": 18,
   "id": "398e13a2-f150-4f5b-8f07-bbfed0fd7a2c",
   "metadata": {},
   "outputs": [
    {
     "data": {
      "text/plain": [
       "('C:\\\\Users\\\\19981\\\\Desktop\\\\Python\\\\Python高阶\\\\Python Standard Library',\n",
       " 'os.ipynb')"
      ]
     },
     "execution_count": 18,
     "metadata": {},
     "output_type": "execute_result"
    }
   ],
   "source": [
    "# 一个分割路径的函数，用于将路径拆分为目录部分和文件名部分。它返回一个元组，其中第一个元素是目录路径，第二个元素是文件名。\n",
    "os.path.split(r'C:\\Users\\19981\\Desktop\\Python\\Python高阶\\Python Standard Library\\os.ipynb')"
   ]
  },
  {
   "cell_type": "code",
   "execution_count": 19,
   "id": "e6c529ec-e4fd-43e6-99ee-4be93ec2cbab",
   "metadata": {},
   "outputs": [
    {
     "data": {
      "text/plain": [
       "True"
      ]
     },
     "execution_count": 19,
     "metadata": {},
     "output_type": "execute_result"
    }
   ],
   "source": [
    "os.path.isabs(r'C:\\Users\\19981\\Desktop\\Python\\Python高阶\\Python Standard Library\\os.ipynb')  # 判断是否为绝对路径"
   ]
  },
  {
   "cell_type": "code",
   "execution_count": 20,
   "id": "2fb8b44a-5be5-41a6-a495-2af16e4d47ff",
   "metadata": {},
   "outputs": [
    {
     "data": {
      "text/plain": [
       "False"
      ]
     },
     "execution_count": 20,
     "metadata": {},
     "output_type": "execute_result"
    }
   ],
   "source": [
    "os.path.isdir(r'C:\\Users\\19981\\Desktop\\Python\\Python高阶\\Python Standard Library\\os.ipynb')  # 一个用于检查指定路径是否为目录的函数"
   ]
  },
  {
   "cell_type": "code",
   "execution_count": 21,
   "id": "3fbf6866-4675-42db-94be-97c68e560616",
   "metadata": {},
   "outputs": [
    {
     "data": {
      "text/plain": [
       "True"
      ]
     },
     "execution_count": 21,
     "metadata": {},
     "output_type": "execute_result"
    }
   ],
   "source": [
    "os.path.exists(r'C:\\Users\\19981\\Desktop\\Python\\Python高阶\\Python Standard Library\\os.ipynb')  # 一个用于检查指定路径是否存在的函数"
   ]
  },
  {
   "cell_type": "code",
   "execution_count": 22,
   "id": "5ea06783-14db-4336-86c8-8913648ab538",
   "metadata": {},
   "outputs": [
    {
     "data": {
      "text/plain": [
       "1723214891.4632752"
      ]
     },
     "execution_count": 22,
     "metadata": {},
     "output_type": "execute_result"
    }
   ],
   "source": [
    "os.path.getatime(r'C:\\Users\\19981\\Desktop\\Python\\Python高阶\\Python Standard Library\\os.ipynb')  # 一个用于获取指定路径最后访问(access)时间的函数"
   ]
  },
  {
   "cell_type": "code",
   "execution_count": 23,
   "id": "2aacc5e5-21d2-4cd4-a2ed-8cfe1f9e120f",
   "metadata": {},
   "outputs": [
    {
     "data": {
      "text/plain": [
       "1722951821.604354"
      ]
     },
     "execution_count": 23,
     "metadata": {},
     "output_type": "execute_result"
    }
   ],
   "source": [
    "os.path.getctime(r'C:\\Users\\19981\\Desktop\\Python\\Python高阶\\Python Standard Library\\os.ipynb')  # 一个用于获取指定路径的创建时间的函数"
   ]
  },
  {
   "cell_type": "code",
   "execution_count": 24,
   "id": "2a93718b-60bb-441b-8c04-c7077ebc7ab4",
   "metadata": {},
   "outputs": [
    {
     "data": {
      "text/plain": [
       "1723214891.4461498"
      ]
     },
     "execution_count": 24,
     "metadata": {},
     "output_type": "execute_result"
    }
   ],
   "source": [
    "os.path.getmtime(r'C:\\Users\\19981\\Desktop\\Python\\Python高阶\\Python Standard Library\\os.ipynb')  # 一个用于获取指定路径的最后修改时间的函数"
   ]
  },
  {
   "cell_type": "code",
   "execution_count": 25,
   "id": "b0247270-217b-4251-9997-81e13d6b06dc",
   "metadata": {},
   "outputs": [
    {
     "data": {
      "text/plain": [
       "20582"
      ]
     },
     "execution_count": 25,
     "metadata": {},
     "output_type": "execute_result"
    }
   ],
   "source": [
    "os.path.getsize(r'C:\\Users\\19981\\Desktop\\Python\\Python高阶\\Python Standard Library\\os.ipynb')  # 是一个用于获取指定路径的文件大小的函数(以字节为单位)"
   ]
  },
  {
   "cell_type": "code",
   "execution_count": 26,
   "id": "25e4acaf-c5e5-495d-9ca2-dac908a01006",
   "metadata": {},
   "outputs": [
    {
     "ename": "FileNotFoundError",
     "evalue": "[WinError 2] 系统找不到指定的文件。: './old.txt'",
     "output_type": "error",
     "traceback": [
      "\u001b[1;31m---------------------------------------------------------------------------\u001b[0m",
      "\u001b[1;31mFileNotFoundError\u001b[0m                         Traceback (most recent call last)",
      "Cell \u001b[1;32mIn[26], line 1\u001b[0m\n\u001b[1;32m----> 1\u001b[0m \u001b[43mos\u001b[49m\u001b[38;5;241;43m.\u001b[39;49m\u001b[43mremove\u001b[49m\u001b[43m(\u001b[49m\u001b[38;5;124;43m'\u001b[39;49m\u001b[38;5;124;43m./old.txt\u001b[39;49m\u001b[38;5;124;43m'\u001b[39;49m\u001b[43m)\u001b[49m  \u001b[38;5;66;03m# 文件删除\u001b[39;00m\n",
      "\u001b[1;31mFileNotFoundError\u001b[0m: [WinError 2] 系统找不到指定的文件。: './old.txt'"
     ]
    }
   ],
   "source": [
    "os.remove('./old.txt')  # 文件删除"
   ]
  },
  {
   "cell_type": "markdown",
   "id": "85127d32-8125-4dbd-959d-3a2df3e65d97",
   "metadata": {},
   "source": [
    "## 3.执行命令和管理进程"
   ]
  },
  {
   "cell_type": "code",
   "execution_count": 54,
   "id": "8f6f5384-7952-40d4-954c-3096cf301ee1",
   "metadata": {},
   "outputs": [
    {
     "data": {
      "text/plain": [
       "1"
      ]
     },
     "execution_count": 54,
     "metadata": {},
     "output_type": "execute_result"
    }
   ],
   "source": [
    "os.system('./hello world.py')"
   ]
  },
  {
   "cell_type": "code",
   "execution_count": 56,
   "id": "2b679ea8-62bf-4862-91ca-675b80ce766f",
   "metadata": {},
   "outputs": [
    {
     "data": {
      "text/plain": [
       "0"
      ]
     },
     "execution_count": 56,
     "metadata": {},
     "output_type": "execute_result"
    }
   ],
   "source": [
    "os.system('ipconfig')"
   ]
  },
  {
   "cell_type": "code",
   "execution_count": null,
   "id": "da572475-3578-4cc1-968e-675943a092cb",
   "metadata": {},
   "outputs": [],
   "source": []
  }
 ],
 "metadata": {
  "kernelspec": {
   "display_name": "Python 3 (ipykernel)",
   "language": "python",
   "name": "python3"
  },
  "language_info": {
   "codemirror_mode": {
    "name": "ipython",
    "version": 3
   },
   "file_extension": ".py",
   "mimetype": "text/x-python",
   "name": "python",
   "nbconvert_exporter": "python",
   "pygments_lexer": "ipython3",
   "version": "3.11.1"
  }
 },
 "nbformat": 4,
 "nbformat_minor": 5
}
