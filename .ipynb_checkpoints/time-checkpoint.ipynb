{
 "cells": [
  {
   "cell_type": "code",
   "execution_count": 1,
   "id": "73edd719-f1a4-4680-8435-496ec30580ae",
   "metadata": {},
   "outputs": [],
   "source": [
    "import time"
   ]
  },
  {
   "cell_type": "markdown",
   "id": "b83a0e11-dea4-42d7-b874-ea748f030cab",
   "metadata": {},
   "source": [
    "## 1. 时间戳"
   ]
  },
  {
   "cell_type": "markdown",
   "id": "527cb8c6-eaf5-49f1-bd51-782018d762e4",
   "metadata": {},
   "source": [
    "**时间戳（Timestamp）是一种用来表示特定时间点的数值，通常以自 Unix 纪元（1970年1月1日00:00:00 UTC）以来的秒数或毫秒数表示。在编程和计算机系统中，时间戳常用于记录事件发生的时间。**"
   ]
  },
  {
   "cell_type": "code",
   "execution_count": 2,
   "id": "2a7a9660-4fd1-46a1-ba5e-bd8fac9bd90f",
   "metadata": {},
   "outputs": [
    {
     "data": {
      "text/plain": [
       "1725286201.931897"
      ]
     },
     "execution_count": 2,
     "metadata": {},
     "output_type": "execute_result"
    }
   ],
   "source": [
    "time.time()"
   ]
  },
  {
   "cell_type": "code",
   "execution_count": 3,
   "id": "fc1cd061-2526-4f14-a214-11a4dc720057",
   "metadata": {},
   "outputs": [
    {
     "data": {
      "text/plain": [
       "float"
      ]
     },
     "execution_count": 3,
     "metadata": {},
     "output_type": "execute_result"
    }
   ],
   "source": [
    "type(time.time())"
   ]
  },
  {
   "cell_type": "code",
   "execution_count": 4,
   "id": "5e8407f6-381e-414c-b785-d86eeea09036",
   "metadata": {},
   "outputs": [
    {
     "data": {
      "text/plain": [
       "1725282604.225039"
      ]
     },
     "execution_count": 4,
     "metadata": {},
     "output_type": "execute_result"
    }
   ],
   "source": [
    "time.time() - 3600"
   ]
  },
  {
   "cell_type": "markdown",
   "id": "2d8ac17c-1465-4f40-a85e-b2f656a915ec",
   "metadata": {},
   "source": [
    "## 2. 结构化时间对象"
   ]
  },
  {
   "cell_type": "code",
   "execution_count": 5,
   "id": "5bafd9a6-332d-49ca-a3c0-ae9f0f0b839f",
   "metadata": {},
   "outputs": [
    {
     "data": {
      "text/plain": [
       "time.struct_time(tm_year=2024, tm_mon=9, tm_mday=2, tm_hour=22, tm_min=11, tm_sec=25, tm_wday=0, tm_yday=246, tm_isdst=0)"
      ]
     },
     "execution_count": 5,
     "metadata": {},
     "output_type": "execute_result"
    }
   ],
   "source": [
    "time.localtime()  # 返回一个表示当前本地时间的 struct_time 对象, 本质上是一个元组, 一共九个元素"
   ]
  },
  {
   "cell_type": "code",
   "execution_count": 6,
   "id": "646ce3c5-27ce-4680-812a-f5532d971eb2",
   "metadata": {},
   "outputs": [
    {
     "data": {
      "text/plain": [
       "time.struct_time"
      ]
     },
     "execution_count": 6,
     "metadata": {},
     "output_type": "execute_result"
    }
   ],
   "source": [
    "type(time.localtime())  # 返回一个表示协调世界时的 struct_time 对象"
   ]
  },
  {
   "cell_type": "code",
   "execution_count": 7,
   "id": "de050178-b7c6-4390-96e8-0ff6ef54f878",
   "metadata": {},
   "outputs": [
    {
     "data": {
      "text/plain": [
       "time.struct_time(tm_year=2024, tm_mon=9, tm_mday=2, tm_hour=14, tm_min=11, tm_sec=31, tm_wday=0, tm_yday=246, tm_isdst=0)"
      ]
     },
     "execution_count": 7,
     "metadata": {},
     "output_type": "execute_result"
    }
   ],
   "source": [
    "time.gmtime()  # 返回一个表示协调世界时的 struct_time 对象"
   ]
  },
  {
   "cell_type": "code",
   "execution_count": 8,
   "id": "3696cb1b-6341-45f8-8928-685bcce1822c",
   "metadata": {},
   "outputs": [
    {
     "data": {
      "text/plain": [
       "'今天是2024-9-2'"
      ]
     },
     "execution_count": 8,
     "metadata": {},
     "output_type": "execute_result"
    }
   ],
   "source": [
    "f'今天是{time.localtime()[0]}-{time.localtime()[1]}-{time.localtime()[2]}'"
   ]
  },
  {
   "cell_type": "code",
   "execution_count": 9,
   "id": "7f52ac4e-bbc5-4023-9fc2-a6e65cacffaf",
   "metadata": {},
   "outputs": [
    {
     "data": {
      "text/plain": [
       "'今天是星期1'"
      ]
     },
     "execution_count": 9,
     "metadata": {},
     "output_type": "execute_result"
    }
   ],
   "source": [
    "f'今天是星期{time.localtime()[6]+1}'"
   ]
  },
  {
   "cell_type": "code",
   "execution_count": 10,
   "id": "e5c2d8af-ac5a-4be8-afd2-63bffa49fa0b",
   "metadata": {},
   "outputs": [
    {
     "ename": "AttributeError",
     "evalue": "readonly attribute",
     "output_type": "error",
     "traceback": [
      "\u001b[1;31m---------------------------------------------------------------------------\u001b[0m",
      "\u001b[1;31mAttributeError\u001b[0m                            Traceback (most recent call last)",
      "Cell \u001b[1;32mIn[10], line 1\u001b[0m\n\u001b[1;32m----> 1\u001b[0m \u001b[43mtime\u001b[49m\u001b[38;5;241;43m.\u001b[39;49m\u001b[43mlocaltime\u001b[49m\u001b[43m(\u001b[49m\u001b[43m)\u001b[49m\u001b[38;5;241;43m.\u001b[39;49m\u001b[43mtm_yday\u001b[49m \u001b[38;5;241m=\u001b[39m \u001b[38;5;241m223\u001b[39m  \u001b[38;5;66;03m# 对象的属性是只读的\u001b[39;00m\n",
      "\u001b[1;31mAttributeError\u001b[0m: readonly attribute"
     ]
    }
   ],
   "source": [
    "time.localtime().tm_yday = 223  # 对象的属性是只读的"
   ]
  },
  {
   "cell_type": "markdown",
   "id": "c744e5d0-2d3f-4676-85fd-d66569f6d758",
   "metadata": {},
   "source": [
    "## 3. 格式化的时间字符串"
   ]
  },
  {
   "cell_type": "code",
   "execution_count": 11,
   "id": "d27c3fe1-9fd0-47d8-989f-716ac0a9b6e5",
   "metadata": {},
   "outputs": [
    {
     "data": {
      "text/plain": [
       "'Mon Sep  2 22:12:13 2024'"
      ]
     },
     "execution_count": 11,
     "metadata": {},
     "output_type": "execute_result"
    }
   ],
   "source": [
    "time.ctime()  # 当前时间的字符串表示"
   ]
  },
  {
   "cell_type": "code",
   "execution_count": 12,
   "id": "9c9f1900-3f1c-4b99-b39f-e219bc0e74b4",
   "metadata": {},
   "outputs": [
    {
     "data": {
      "text/plain": [
       "str"
      ]
     },
     "execution_count": 12,
     "metadata": {},
     "output_type": "execute_result"
    }
   ],
   "source": [
    "type(time.ctime())"
   ]
  },
  {
   "cell_type": "code",
   "execution_count": 13,
   "id": "3918d7f1-0ea4-42e1-af7c-d79e08d3e590",
   "metadata": {},
   "outputs": [
    {
     "data": {
      "text/plain": [
       "'2024-09-02 10:12:14'"
      ]
     },
     "execution_count": 13,
     "metadata": {},
     "output_type": "execute_result"
    }
   ],
   "source": [
    "time.strftime('%Y-%m-%d %I:%M:%S')  # 12小时制"
   ]
  },
  {
   "cell_type": "code",
   "execution_count": 14,
   "id": "f71fcaed-aebc-45ec-8945-bca2ec966b1d",
   "metadata": {},
   "outputs": [
    {
     "data": {
      "text/plain": [
       "'2024-09-02 22:12:15'"
      ]
     },
     "execution_count": 14,
     "metadata": {},
     "output_type": "execute_result"
    }
   ],
   "source": [
    "time.strftime('%Y-%m-%d %H:%M:%S')  # 24小时制"
   ]
  },
  {
   "cell_type": "code",
   "execution_count": 15,
   "id": "eb125219-6696-4d59-afcd-3bbb0b3b5058",
   "metadata": {},
   "outputs": [
    {
     "data": {
      "text/plain": [
       "'2024-09-02 22:12:17 Monday'"
      ]
     },
     "execution_count": 15,
     "metadata": {},
     "output_type": "execute_result"
    }
   ],
   "source": [
    "time.strftime('%Y-%m-%d %H:%M:%S %A')"
   ]
  },
  {
   "cell_type": "code",
   "execution_count": 16,
   "id": "f201d09e-bc8b-4e76-84d2-5feb1e314e6e",
   "metadata": {},
   "outputs": [
    {
     "data": {
      "text/plain": [
       "'2024-09-02 22:12:19 Mon'"
      ]
     },
     "execution_count": 16,
     "metadata": {},
     "output_type": "execute_result"
    }
   ],
   "source": [
    "time.strftime('%Y-%m-%d %H:%M:%S %a')"
   ]
  },
  {
   "cell_type": "code",
   "execution_count": 17,
   "id": "fe3a0756-8f7c-4474-abce-9b31fd26e41b",
   "metadata": {},
   "outputs": [
    {
     "data": {
      "text/plain": [
       "'2024-09-02 22:12:21 September'"
      ]
     },
     "execution_count": 17,
     "metadata": {},
     "output_type": "execute_result"
    }
   ],
   "source": [
    "time.strftime('%Y-%m-%d %H:%M:%S %B')"
   ]
  },
  {
   "cell_type": "code",
   "execution_count": 18,
   "id": "3ad98e44-8d36-4655-be00-57a373a89ae3",
   "metadata": {},
   "outputs": [
    {
     "data": {
      "text/plain": [
       "'2024-09-02 22:12:23 Sep'"
      ]
     },
     "execution_count": 18,
     "metadata": {},
     "output_type": "execute_result"
    }
   ],
   "source": [
    "time.strftime('%Y-%m-%d %H:%M:%S %b')"
   ]
  },
  {
   "cell_type": "code",
   "execution_count": 19,
   "id": "56ebc588-b1a0-44af-b0d7-287a741cc887",
   "metadata": {},
   "outputs": [
    {
     "data": {
      "text/plain": [
       "'2024-09-02 22:12:24 PM'"
      ]
     },
     "execution_count": 19,
     "metadata": {},
     "output_type": "execute_result"
    }
   ],
   "source": [
    "time.strftime('%Y-%m-%d %H:%M:%S %p')"
   ]
  },
  {
   "cell_type": "code",
   "execution_count": 20,
   "id": "e79b5617-035b-46e9-8b61-239808c650e7",
   "metadata": {},
   "outputs": [
    {
     "data": {
      "text/plain": [
       "'2024-09-02 22:12:26 1'"
      ]
     },
     "execution_count": 20,
     "metadata": {},
     "output_type": "execute_result"
    }
   ],
   "source": [
    "time.strftime('%Y-%m-%d %H:%M:%S %w')  # 用于表示一周中的星期几 0 表示星期天 (Sunday)"
   ]
  },
  {
   "cell_type": "code",
   "execution_count": 21,
   "id": "cb9828dc-41ca-4ff7-9953-84782051e18a",
   "metadata": {},
   "outputs": [
    {
     "data": {
      "text/plain": [
       "'2024-09-02 22:12:37 36'"
      ]
     },
     "execution_count": 21,
     "metadata": {},
     "output_type": "execute_result"
    }
   ],
   "source": [
    "time.strftime('%Y-%m-%d %H:%M:%S %W')  # 用于表示一年中的第几周"
   ]
  },
  {
   "cell_type": "code",
   "execution_count": 25,
   "id": "814fb41c-b894-4118-abb0-fb85fd328bce",
   "metadata": {},
   "outputs": [
    {
     "data": {
      "text/plain": [
       "'2024年08月18日 10时52分56秒'"
      ]
     },
     "execution_count": 25,
     "metadata": {},
     "output_type": "execute_result"
    }
   ],
   "source": [
    "time.strftime('%Y年%m月%d日 %H时%M分%S秒')"
   ]
  },
  {
   "cell_type": "code",
   "execution_count": 41,
   "id": "38a20e39-e334-47fc-9412-53f41fbb86e7",
   "metadata": {},
   "outputs": [
    {
     "name": "stdout",
     "output_type": "stream",
     "text": [
      "start\n",
      "end\n"
     ]
    },
    {
     "data": {
      "text/plain": [
       "1.0008931159973145"
      ]
     },
     "execution_count": 41,
     "metadata": {},
     "output_type": "execute_result"
    }
   ],
   "source": [
    "t1 = time.time()\n",
    "print('start')\n",
    "time.sleep(1)\n",
    "print('end')\n",
    "t2 = time.time()\n",
    "t2 - t1"
   ]
  },
  {
   "cell_type": "markdown",
   "id": "0876f0f3-9e91-4040-822d-167b3d4c38c6",
   "metadata": {},
   "source": [
    "## 4. 三种格式之间的转换"
   ]
  },
  {
   "cell_type": "markdown",
   "id": "8da617c8-4474-43e7-964b-e60ebed25433",
   "metadata": {},
   "source": [
    "UTC（Coordinated Universal Time，协调世界时）是全球时间的标准，它不受任何特定地点的时区影响。UTC 基于国际原子时（TAI）和世界时（UT1）进行协调，以确保时间的准确性和一致性。UTC 是全球各地时间的基准，所有的时区都是以 UTC 为参考进行调整的。"
   ]
  },
  {
   "cell_type": "markdown",
   "id": "b9b18ecf-d140-43e1-b3da-f5e7747b2c44",
   "metadata": {},
   "source": [
    "### 4.1 时间戳->结构化时间对象"
   ]
  },
  {
   "cell_type": "code",
   "execution_count": 22,
   "id": "e376bf86-befd-4297-94eb-0e48d08b03b8",
   "metadata": {},
   "outputs": [
    {
     "data": {
      "text/plain": [
       "time.struct_time(tm_year=2024, tm_mon=9, tm_mday=2, tm_hour=14, tm_min=13, tm_sec=32, tm_wday=0, tm_yday=246, tm_isdst=0)"
      ]
     },
     "execution_count": 22,
     "metadata": {},
     "output_type": "execute_result"
    }
   ],
   "source": [
    "time.gmtime(time.time())  # 时间戳转化为UTC结构化时间对象"
   ]
  },
  {
   "cell_type": "code",
   "execution_count": 23,
   "id": "92f1371b-ef80-499a-b928-62d456d77c53",
   "metadata": {},
   "outputs": [
    {
     "data": {
      "text/plain": [
       "time.struct_time(tm_year=2024, tm_mon=9, tm_mday=2, tm_hour=22, tm_min=13, tm_sec=32, tm_wday=0, tm_yday=246, tm_isdst=0)"
      ]
     },
     "execution_count": 23,
     "metadata": {},
     "output_type": "execute_result"
    }
   ],
   "source": [
    "time.localtime(time.time())  # 时间戳转化为当地时间结构化时间对象"
   ]
  },
  {
   "cell_type": "markdown",
   "id": "c2c116a0-36ef-4621-81f2-80637335657f",
   "metadata": {},
   "source": [
    "### 4.2 结构化时间对象->时间戳"
   ]
  },
  {
   "cell_type": "code",
   "execution_count": 24,
   "id": "d8537c39-123d-4be8-9a13-0557ad373f04",
   "metadata": {},
   "outputs": [
    {
     "data": {
      "text/plain": [
       "1725286423.0"
      ]
     },
     "execution_count": 24,
     "metadata": {},
     "output_type": "execute_result"
    }
   ],
   "source": [
    "time.mktime(time.localtime())"
   ]
  },
  {
   "cell_type": "code",
   "execution_count": 25,
   "id": "657e6554-37a4-47fd-af7f-4c562cfcc925",
   "metadata": {},
   "outputs": [
    {
     "data": {
      "text/plain": [
       "1725257624.0"
      ]
     },
     "execution_count": 25,
     "metadata": {},
     "output_type": "execute_result"
    }
   ],
   "source": [
    "time.mktime(time.gmtime())"
   ]
  },
  {
   "cell_type": "code",
   "execution_count": 26,
   "id": "77deb258-343c-4652-91b4-439bb28def80",
   "metadata": {},
   "outputs": [
    {
     "data": {
      "text/plain": [
       "1725286424.4127288"
      ]
     },
     "execution_count": 26,
     "metadata": {},
     "output_type": "execute_result"
    }
   ],
   "source": [
    "time.time()"
   ]
  },
  {
   "cell_type": "markdown",
   "id": "f07f895f-3045-4850-ab53-d1eddf997dbf",
   "metadata": {},
   "source": [
    "### 4.3 结构化时间对象->格式化时间字符串"
   ]
  },
  {
   "cell_type": "code",
   "execution_count": 27,
   "id": "dd39442a-a837-4114-872c-e8ceb82568a0",
   "metadata": {},
   "outputs": [
    {
     "data": {
      "text/plain": [
       "'2024-09-02 22-13-50'"
      ]
     },
     "execution_count": 27,
     "metadata": {},
     "output_type": "execute_result"
    }
   ],
   "source": [
    "time.strftime('%Y-%m-%d %H-%M-%S', time.localtime())"
   ]
  },
  {
   "cell_type": "code",
   "execution_count": 28,
   "id": "06262c06-11a7-415a-82c7-a0b24695c44f",
   "metadata": {},
   "outputs": [
    {
     "data": {
      "text/plain": [
       "'2024-09-02 14-13-50'"
      ]
     },
     "execution_count": 28,
     "metadata": {},
     "output_type": "execute_result"
    }
   ],
   "source": [
    "time.strftime('%Y-%m-%d %H-%M-%S', time.gmtime())"
   ]
  },
  {
   "cell_type": "markdown",
   "id": "b8245c8a-e4d0-44b1-9fee-9fe064e9119d",
   "metadata": {},
   "source": [
    "### 4.4 格式化字符串->结构化时间对象"
   ]
  },
  {
   "cell_type": "code",
   "execution_count": 29,
   "id": "b5168e4f-8264-463c-a820-fa44f585bd08",
   "metadata": {},
   "outputs": [
    {
     "data": {
      "text/plain": [
       "time.struct_time(tm_year=2024, tm_mon=8, tm_mday=18, tm_hour=10, tm_min=52, tm_sec=47, tm_wday=6, tm_yday=231, tm_isdst=-1)"
      ]
     },
     "execution_count": 29,
     "metadata": {},
     "output_type": "execute_result"
    }
   ],
   "source": [
    "time.strptime('2024-08-18 10:52:47', '%Y-%m-%d %H:%M:%S')"
   ]
  },
  {
   "cell_type": "markdown",
   "id": "8839f722-9ddd-4d38-9b62-4ef62cdfccfd",
   "metadata": {},
   "source": [
    "![](./1.png)"
   ]
  },
  {
   "cell_type": "code",
   "execution_count": null,
   "id": "ccc32c76-ac89-49f6-8993-fe5b4d7fc4f1",
   "metadata": {},
   "outputs": [],
   "source": []
  }
 ],
 "metadata": {
  "kernelspec": {
   "display_name": "Python 3 (ipykernel)",
   "language": "python",
   "name": "python3"
  },
  "language_info": {
   "codemirror_mode": {
    "name": "ipython",
    "version": 3
   },
   "file_extension": ".py",
   "mimetype": "text/x-python",
   "name": "python",
   "nbconvert_exporter": "python",
   "pygments_lexer": "ipython3",
   "version": "3.11.1"
  }
 },
 "nbformat": 4,
 "nbformat_minor": 5
}
