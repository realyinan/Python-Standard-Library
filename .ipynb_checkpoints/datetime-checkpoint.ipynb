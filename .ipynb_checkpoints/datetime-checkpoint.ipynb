{
 "cells": [
  {
   "cell_type": "code",
   "execution_count": 9,
   "id": "93b80902-f742-49d6-bc5d-c4bcf6fa4dce",
   "metadata": {},
   "outputs": [],
   "source": [
    "import datetime\n",
    "import time"
   ]
  },
  {
   "cell_type": "markdown",
   "id": "640a7c74-3b1f-4153-a8e6-0e73a10ac3eb",
   "metadata": {},
   "source": [
    "## 1 生成日期"
   ]
  },
  {
   "cell_type": "code",
   "execution_count": 15,
   "id": "b47b1820-2f2b-426a-b6a9-87e4a3ba6c0d",
   "metadata": {},
   "outputs": [
    {
     "data": {
      "text/plain": [
       "datetime.date(2024, 8, 19)"
      ]
     },
     "execution_count": 15,
     "metadata": {},
     "output_type": "execute_result"
    }
   ],
   "source": [
    "datetime.date.today()  # datetime.date 类的一个类方法，用于获取当前的日期, 返回一个包含当前年、月、日的 datetime.date 对象。"
   ]
  },
  {
   "cell_type": "code",
   "execution_count": 7,
   "id": "ce1cecaa-3618-440b-bfb0-6e445bc2d778",
   "metadata": {},
   "outputs": [
    {
     "data": {
      "text/plain": [
       "datetime.date"
      ]
     },
     "execution_count": 7,
     "metadata": {},
     "output_type": "execute_result"
    }
   ],
   "source": [
    "type(datetime.date.today())"
   ]
  },
  {
   "cell_type": "code",
   "execution_count": 8,
   "id": "57289e54-2c34-4972-be24-0b68f41b7816",
   "metadata": {},
   "outputs": [
    {
     "data": {
      "text/plain": [
       "datetime.date(1989, 6, 4)"
      ]
     },
     "execution_count": 8,
     "metadata": {},
     "output_type": "execute_result"
    }
   ],
   "source": [
    "datetime.date(1989, 6, 4)  # 使用 datetime.date 创建一个日期对象"
   ]
  },
  {
   "cell_type": "code",
   "execution_count": 16,
   "id": "233c0529-14ee-40a3-b2f0-c0cf95e15cd6",
   "metadata": {},
   "outputs": [
    {
     "data": {
      "text/plain": [
       "1989"
      ]
     },
     "execution_count": 16,
     "metadata": {},
     "output_type": "execute_result"
    }
   ],
   "source": [
    "datetime.date(1989, 6, 4).year"
   ]
  },
  {
   "cell_type": "code",
   "execution_count": 17,
   "id": "38769835-d119-43f0-a7c7-a1b8fa3dd548",
   "metadata": {},
   "outputs": [
    {
     "data": {
      "text/plain": [
       "6"
      ]
     },
     "execution_count": 17,
     "metadata": {},
     "output_type": "execute_result"
    }
   ],
   "source": [
    "datetime.date(1989, 6, 4).month"
   ]
  },
  {
   "cell_type": "code",
   "execution_count": 18,
   "id": "e31bae8f-1fdc-4700-8249-c23ad4c12aa6",
   "metadata": {},
   "outputs": [
    {
     "data": {
      "text/plain": [
       "4"
      ]
     },
     "execution_count": 18,
     "metadata": {},
     "output_type": "execute_result"
    }
   ],
   "source": [
    "datetime.date(1989, 6, 4).day"
   ]
  },
  {
   "cell_type": "code",
   "execution_count": 19,
   "id": "35782d88-07b2-487e-8d06-93427ebd20fe",
   "metadata": {},
   "outputs": [
    {
     "data": {
      "text/plain": [
       "datetime.date(2024, 8, 19)"
      ]
     },
     "execution_count": 19,
     "metadata": {},
     "output_type": "execute_result"
    }
   ],
   "source": [
    "datetime.date.fromtimestamp(time.time())  # datetime.date 类的一个类方法，它用于从给定的时间戳创建一个日期对象"
   ]
  },
  {
   "cell_type": "markdown",
   "id": "40489d83-6f16-42cb-9c33-ebbb8ebd81b2",
   "metadata": {},
   "source": [
    "### 1.1 类属性"
   ]
  },
  {
   "cell_type": "code",
   "execution_count": 20,
   "id": "58423f7c-c41a-4814-adbe-c0c9ce057413",
   "metadata": {},
   "outputs": [
    {
     "data": {
      "text/plain": [
       "datetime.date(1, 1, 1)"
      ]
     },
     "execution_count": 20,
     "metadata": {},
     "output_type": "execute_result"
    }
   ],
   "source": [
    "datetime.date.min  # datetime.date 类的一个类属性，它表示日期对象可以表示的最早日期。"
   ]
  },
  {
   "cell_type": "code",
   "execution_count": 21,
   "id": "f7b23f27-b436-4769-83e0-30f1c96d46df",
   "metadata": {},
   "outputs": [
    {
     "data": {
      "text/plain": [
       "datetime.date(9999, 12, 31)"
      ]
     },
     "execution_count": 21,
     "metadata": {},
     "output_type": "execute_result"
    }
   ],
   "source": [
    "datetime.date.max  # datetime.date 类的一个类属性，它表示日期对象可以表示的最晚日期。"
   ]
  },
  {
   "cell_type": "code",
   "execution_count": 22,
   "id": "4e82910b-8016-4c3c-99af-998e33b7fd7f",
   "metadata": {},
   "outputs": [
    {
     "data": {
      "text/plain": [
       "datetime.timedelta(days=1)"
      ]
     },
     "execution_count": 22,
     "metadata": {},
     "output_type": "execute_result"
    }
   ],
   "source": [
    "datetime.date.resolution  # datetime.date 类的一个类属性，它表示日期对象能够表示的最小时间单位。在 datetime.date 中，分辨率为一天，即 1 天。"
   ]
  },
  {
   "cell_type": "code",
   "execution_count": null,
   "id": "44573427-41aa-405c-a98a-1e25e9e326d8",
   "metadata": {},
   "outputs": [],
   "source": []
  }
 ],
 "metadata": {
  "kernelspec": {
   "display_name": "Python 3 (ipykernel)",
   "language": "python",
   "name": "python3"
  },
  "language_info": {
   "codemirror_mode": {
    "name": "ipython",
    "version": 3
   },
   "file_extension": ".py",
   "mimetype": "text/x-python",
   "name": "python",
   "nbconvert_exporter": "python",
   "pygments_lexer": "ipython3",
   "version": "3.11.1"
  }
 },
 "nbformat": 4,
 "nbformat_minor": 5
}
